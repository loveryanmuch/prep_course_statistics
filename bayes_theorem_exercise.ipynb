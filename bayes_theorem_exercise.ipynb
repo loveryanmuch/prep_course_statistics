{
 "cells": [
  {
   "cell_type": "markdown",
   "metadata": {
    "ExecuteTime": {
     "end_time": "2020-02-05T17:56:18.818219Z",
     "start_time": "2020-02-05T17:56:18.810698Z"
    }
   },
   "source": [
    "## Exercise 1\n",
    "In Orange County, 51% of the adults are males. (It doesn't take too much advanced\n",
    "mathematics to deduce that the other 49% are females.) One adult is randomly selected\n",
    "for a survey involving credit card usage.\n",
    "\n",
    "- **(a)** Find the probability that the selected person is a male.\n",
    "\n",
    "- **(b)** It is later learned that the selected survey subject was smoking a cigar. Also, 9.5% of males smoke cigars, whereas 1.7% of females smoke cigars (based on data from the Substance Abuse and Mental Health Services Administration). Use this additional information to find the probability that the cigar−smoking respondent is a male\n",
    "\n",
    "Use following notation:\n",
    "M = male <br>\n",
    "F = female <br>\n",
    "C = cigar smoker<br>\n",
    "NC = not a cigar smoker<br>\n"
   ]
  },
  {
   "cell_type": "code",
   "execution_count": 7,
   "metadata": {},
   "outputs": [],
   "source": [
    "percentage_males = 51  \n",
    "percentage_females = 49  "
   ]
  },
  {
   "cell_type": "code",
   "execution_count": 8,
   "metadata": {},
   "outputs": [
    {
     "ename": "SyntaxError",
     "evalue": "invalid syntax (937697342.py, line 2)",
     "output_type": "error",
     "traceback": [
      "\u001b[1;36m  Cell \u001b[1;32mIn[8], line 2\u001b[1;36m\u001b[0m\n\u001b[1;33m    probability_cigar_given_female = 1.7 /\u001b[0m\n\u001b[1;37m                                           ^\u001b[0m\n\u001b[1;31mSyntaxError\u001b[0m\u001b[1;31m:\u001b[0m invalid syntax\n"
     ]
    }
   ],
   "source": [
    "probability_cigar_given_male = 9.5 / 100  \n",
    "probability_cigar_given_female = 1.7 / "
   ]
  },
  {
   "cell_type": "code",
   "execution_count": null,
   "metadata": {},
   "outputs": [],
   "source": []
  },
  {
   "cell_type": "markdown",
   "metadata": {
    "ExecuteTime": {
     "end_time": "2020-02-05T17:56:20.532960Z",
     "start_time": "2020-02-05T17:56:20.525450Z"
    }
   },
   "source": [
    "# Exercise 2\n",
    "\n",
    "A diagnostic test has a probability 0.95 of giving a positive result when applied to a person suffering\n",
    "from a certain disease, and a probability 0.10 of giving a (false) positive when applied to a non-sufferer. It is\n",
    "estimated that 0.5 % of the population are sufferers. Suppose that the test is now administered to a person about\n",
    "whom we have no relevant information relating to the disease (apart from the fact that he/she comes from this\n",
    "population). \n",
    "\n",
    "Calculate the following probabilities:\n",
    "- **(a)** that the test result will be positive;\n",
    "- **(b)** that, given a positive result, the person is a sufferer;\n",
    "- **(c)** that, given a negative result, the person is a non-sufferer;\n",
    "- **(d)** that the person will be misclassified.\n",
    "\n",
    "Use following notation:\n",
    "\n",
    "T = test positive <br>\n",
    "NT = test negative<br>\n",
    "S = sufferer<br>\n",
    "NS = non-sufferer<br>\n",
    "M = misclassified<br>\n",
    "\n",
    "Solve it by two approaches:\n",
    "1. Arithmetically\n",
    "2. By simulation"
   ]
  },
  {
   "cell_type": "code",
   "execution_count": 9,
   "metadata": {},
   "outputs": [],
   "source": [
    "import numpy as np\n",
    "\n",
    "P_T_given_S = 0.95   \n",
    "P_T_given_NS = 0.10  \n",
    "P_S = 0.005  \n",
    "P_NS = 1 - P_S  "
   ]
  },
  {
   "cell_type": "code",
   "execution_count": 10,
   "metadata": {},
   "outputs": [],
   "source": [
    "P_T = P_T_given_S * P_S + P_T_given_NS * P_NS\n",
    "P_S_given_T = (P_T_given_S * P_S) / P_T\n",
    "\n",
    "# (c) P(NS|NT) = P(NT|NS) * P(NS) / P(NT)\n",
    "# Where P(NT|NS) is the probability of testing negative given the person is a non-sufferer\n",
    "P_NT_given_NS = 1 - P_T_given_NS\n",
    "# P(NT) is the total probability of testing negative\n",
    "P_NT = 1 - P_T\n",
    "P_NS_given_NT = (P_NT_given_NS * P_NS) / P_NT\n",
    "\n",
    "# (d) P(M) = 1 - [(P(S|T) * P(T)) + (P(NS|NT) * P(NT))]\n",
    "P_M = 1 - ((P_S_given_T * P_T) + (P_NS_given_NT * P_NT))\n"
   ]
  },
  {
   "cell_type": "code",
   "execution_count": 11,
   "metadata": {},
   "outputs": [
    {
     "data": {
      "text/plain": [
       "((0.10425000000000001, 0.04556354916067146, 0.9997209042701646, 0.09975),\n",
       " (0.104522, 0.04587550946212281, 0.9996951348888526, 0.1))"
      ]
     },
     "execution_count": 11,
     "metadata": {},
     "output_type": "execute_result"
    }
   ],
   "source": [
    "n = 1000000\n",
    "# Simulate sufferers and non-sufferers\n",
    "sufferers = np.random.rand(n) < P_S\n",
    "# Simulate test results for sufferers and non-sufferers\n",
    "positive_sufferers = np.random.rand(n) < P_T_given_S\n",
    "positive_nonsufferers = np.random.rand(n) < P_T_given_NS\n",
    "test_results = (sufferers & positive_sufferers) | (~sufferers & positive_nonsufferers)\n",
    "\n",
    "# (a) Simulated P(T)\n",
    "simulated_P_T = np.mean(test_results)\n",
    "\n",
    "# (b) Simulated P(S|T)\n",
    "simulated_P_S_given_T = np.mean(sufferers[test_results])\n",
    "\n",
    "# (c) Simulated P(NS|NT)\n",
    "negative_test_results = ~test_results\n",
    "simulated_P_NS_given_NT = np.mean(~sufferers[negative_test_results])\n",
    "\n",
    "# (d) Simulated P(M)\n",
    "# Misclassified if a sufferer tests negative or a non-sufferer tests positive\n",
    "misclassified = (sufferers & ~positive_sufferers) | (~sufferers & positive_nonsufferers)\n",
    "simulated_P_M = np.mean(misclassified)\n",
    "\n",
    "(P_T, P_S_given_T, P_NS_given_NT, P_M), (simulated_P_T, simulated_P_S_given_T, simulated_P_NS_given_NT, simulated_P_M)"
   ]
  }
 ],
 "metadata": {
  "kernelspec": {
   "display_name": "Python 3",
   "language": "python",
   "name": "python3"
  },
  "language_info": {
   "codemirror_mode": {
    "name": "ipython",
    "version": 3
   },
   "file_extension": ".py",
   "mimetype": "text/x-python",
   "name": "python",
   "nbconvert_exporter": "python",
   "pygments_lexer": "ipython3",
   "version": "3.11.5"
  },
  "toc": {
   "base_numbering": 1,
   "nav_menu": {},
   "number_sections": true,
   "sideBar": true,
   "skip_h1_title": false,
   "title_cell": "Table of Contents",
   "title_sidebar": "Contents",
   "toc_cell": false,
   "toc_position": {},
   "toc_section_display": true,
   "toc_window_display": false
  },
  "varInspector": {
   "cols": {
    "lenName": 16,
    "lenType": 16,
    "lenVar": 40
   },
   "kernels_config": {
    "python": {
     "delete_cmd_postfix": "",
     "delete_cmd_prefix": "del ",
     "library": "var_list.py",
     "varRefreshCmd": "print(var_dic_list())"
    },
    "r": {
     "delete_cmd_postfix": ") ",
     "delete_cmd_prefix": "rm(",
     "library": "var_list.r",
     "varRefreshCmd": "cat(var_dic_list()) "
    }
   },
   "types_to_exclude": [
    "module",
    "function",
    "builtin_function_or_method",
    "instance",
    "_Feature"
   ],
   "window_display": false
  }
 },
 "nbformat": 4,
 "nbformat_minor": 4
}
